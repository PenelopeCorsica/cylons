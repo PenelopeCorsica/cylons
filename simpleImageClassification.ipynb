{
  "nbformat": 4,
  "nbformat_minor": 0,
  "metadata": {
    "colab": {
      "name": "simpleImageClassification.ipynb",
      "provenance": [],
      "authorship_tag": "ABX9TyNrMfE38Grp0IQNn+42XmE6",
      "include_colab_link": true
    },
    "kernelspec": {
      "name": "python3",
      "display_name": "Python 3"
    },
    "language_info": {
      "name": "python"
    }
  },
  "cells": [
    {
      "cell_type": "markdown",
      "metadata": {
        "id": "view-in-github",
        "colab_type": "text"
      },
      "source": [
        "<a href=\"https://colab.research.google.com/github/a-forty-two/cylons/blob/master/simpleImageClassification.ipynb\" target=\"_parent\"><img src=\"https://colab.research.google.com/assets/colab-badge.svg\" alt=\"Open In Colab\"/></a>"
      ]
    },
    {
      "cell_type": "code",
      "metadata": {
        "id": "_ij9BNlBQRhJ"
      },
      "source": [
        "import tensorflow as tf\n",
        "from tensorflow import keras"
      ],
      "execution_count": 4,
      "outputs": []
    },
    {
      "cell_type": "code",
      "metadata": {
        "id": "BQVITrGEQgF1"
      },
      "source": [
        "dataset = keras.datasets.fashion_mnist"
      ],
      "execution_count": 5,
      "outputs": []
    },
    {
      "cell_type": "code",
      "metadata": {
        "colab": {
          "base_uri": "https://localhost:8080/"
        },
        "id": "NFPmWFSFQgIz",
        "outputId": "533f7743-12ee-405b-dfb7-3f5afa3845ba"
      },
      "source": [
        "dir(dataset)\n",
        "# verb-> function\n",
        "# noun-> properties"
      ],
      "execution_count": 6,
      "outputs": [
        {
          "output_type": "execute_result",
          "data": {
            "text/plain": [
              "['__builtins__',\n",
              " '__cached__',\n",
              " '__doc__',\n",
              " '__file__',\n",
              " '__loader__',\n",
              " '__name__',\n",
              " '__package__',\n",
              " '__path__',\n",
              " '__spec__',\n",
              " '_sys',\n",
              " 'load_data']"
            ]
          },
          "metadata": {},
          "execution_count": 6
        }
      ]
    },
    {
      "cell_type": "code",
      "metadata": {
        "colab": {
          "base_uri": "https://localhost:8080/"
        },
        "id": "6R1UeS0YRB73",
        "outputId": "fdfbea60-1dbf-4edf-8253-3d2a250723b8"
      },
      "source": [
        "data = dataset.load_data()\n"
      ],
      "execution_count": 7,
      "outputs": [
        {
          "output_type": "stream",
          "name": "stdout",
          "text": [
            "Downloading data from https://storage.googleapis.com/tensorflow/tf-keras-datasets/train-labels-idx1-ubyte.gz\n",
            "32768/29515 [=================================] - 0s 0us/step\n",
            "40960/29515 [=========================================] - 0s 0us/step\n",
            "Downloading data from https://storage.googleapis.com/tensorflow/tf-keras-datasets/train-images-idx3-ubyte.gz\n",
            "26427392/26421880 [==============================] - 0s 0us/step\n",
            "26435584/26421880 [==============================] - 0s 0us/step\n",
            "Downloading data from https://storage.googleapis.com/tensorflow/tf-keras-datasets/t10k-labels-idx1-ubyte.gz\n",
            "16384/5148 [===============================================================================================] - 0s 0us/step\n",
            "Downloading data from https://storage.googleapis.com/tensorflow/tf-keras-datasets/t10k-images-idx3-ubyte.gz\n",
            "4423680/4422102 [==============================] - 0s 0us/step\n",
            "4431872/4422102 [==============================] - 0s 0us/step\n"
          ]
        }
      ]
    },
    {
      "cell_type": "code",
      "metadata": {
        "colab": {
          "base_uri": "https://localhost:8080/"
        },
        "id": "86EivZWVSVPy",
        "outputId": "17a62ca4-c51a-4ac3-9a67-68fce2533e44"
      },
      "source": [
        "print(data)"
      ],
      "execution_count": 12,
      "outputs": [
        {
          "output_type": "stream",
          "name": "stdout",
          "text": [
            "((array([[[0, 0, 0, ..., 0, 0, 0],\n",
            "        [0, 0, 0, ..., 0, 0, 0],\n",
            "        [0, 0, 0, ..., 0, 0, 0],\n",
            "        ...,\n",
            "        [0, 0, 0, ..., 0, 0, 0],\n",
            "        [0, 0, 0, ..., 0, 0, 0],\n",
            "        [0, 0, 0, ..., 0, 0, 0]],\n",
            "\n",
            "       [[0, 0, 0, ..., 0, 0, 0],\n",
            "        [0, 0, 0, ..., 0, 0, 0],\n",
            "        [0, 0, 0, ..., 0, 0, 0],\n",
            "        ...,\n",
            "        [0, 0, 0, ..., 0, 0, 0],\n",
            "        [0, 0, 0, ..., 0, 0, 0],\n",
            "        [0, 0, 0, ..., 0, 0, 0]],\n",
            "\n",
            "       [[0, 0, 0, ..., 0, 0, 0],\n",
            "        [0, 0, 0, ..., 0, 0, 0],\n",
            "        [0, 0, 0, ..., 0, 0, 0],\n",
            "        ...,\n",
            "        [0, 0, 0, ..., 0, 0, 0],\n",
            "        [0, 0, 0, ..., 0, 0, 0],\n",
            "        [0, 0, 0, ..., 0, 0, 0]],\n",
            "\n",
            "       ...,\n",
            "\n",
            "       [[0, 0, 0, ..., 0, 0, 0],\n",
            "        [0, 0, 0, ..., 0, 0, 0],\n",
            "        [0, 0, 0, ..., 0, 0, 0],\n",
            "        ...,\n",
            "        [0, 0, 0, ..., 0, 0, 0],\n",
            "        [0, 0, 0, ..., 0, 0, 0],\n",
            "        [0, 0, 0, ..., 0, 0, 0]],\n",
            "\n",
            "       [[0, 0, 0, ..., 0, 0, 0],\n",
            "        [0, 0, 0, ..., 0, 0, 0],\n",
            "        [0, 0, 0, ..., 0, 0, 0],\n",
            "        ...,\n",
            "        [0, 0, 0, ..., 0, 0, 0],\n",
            "        [0, 0, 0, ..., 0, 0, 0],\n",
            "        [0, 0, 0, ..., 0, 0, 0]],\n",
            "\n",
            "       [[0, 0, 0, ..., 0, 0, 0],\n",
            "        [0, 0, 0, ..., 0, 0, 0],\n",
            "        [0, 0, 0, ..., 0, 0, 0],\n",
            "        ...,\n",
            "        [0, 0, 0, ..., 0, 0, 0],\n",
            "        [0, 0, 0, ..., 0, 0, 0],\n",
            "        [0, 0, 0, ..., 0, 0, 0]]], dtype=uint8), array([9, 0, 0, ..., 3, 0, 5], dtype=uint8)), (array([[[0, 0, 0, ..., 0, 0, 0],\n",
            "        [0, 0, 0, ..., 0, 0, 0],\n",
            "        [0, 0, 0, ..., 0, 0, 0],\n",
            "        ...,\n",
            "        [0, 0, 0, ..., 0, 0, 0],\n",
            "        [0, 0, 0, ..., 0, 0, 0],\n",
            "        [0, 0, 0, ..., 0, 0, 0]],\n",
            "\n",
            "       [[0, 0, 0, ..., 0, 0, 0],\n",
            "        [0, 0, 0, ..., 0, 0, 0],\n",
            "        [0, 0, 0, ..., 0, 0, 0],\n",
            "        ...,\n",
            "        [0, 0, 0, ..., 0, 0, 0],\n",
            "        [0, 0, 0, ..., 0, 0, 0],\n",
            "        [0, 0, 0, ..., 0, 0, 0]],\n",
            "\n",
            "       [[0, 0, 0, ..., 0, 0, 0],\n",
            "        [0, 0, 0, ..., 0, 0, 0],\n",
            "        [0, 0, 0, ..., 0, 0, 0],\n",
            "        ...,\n",
            "        [0, 0, 0, ..., 0, 0, 0],\n",
            "        [0, 0, 0, ..., 0, 0, 0],\n",
            "        [0, 0, 0, ..., 0, 0, 0]],\n",
            "\n",
            "       ...,\n",
            "\n",
            "       [[0, 0, 0, ..., 0, 0, 0],\n",
            "        [0, 0, 0, ..., 0, 0, 0],\n",
            "        [0, 0, 0, ..., 0, 0, 0],\n",
            "        ...,\n",
            "        [0, 0, 0, ..., 0, 0, 0],\n",
            "        [0, 0, 0, ..., 0, 0, 0],\n",
            "        [0, 0, 0, ..., 0, 0, 0]],\n",
            "\n",
            "       [[0, 0, 0, ..., 0, 0, 0],\n",
            "        [0, 0, 0, ..., 0, 0, 0],\n",
            "        [0, 0, 0, ..., 0, 0, 0],\n",
            "        ...,\n",
            "        [0, 0, 0, ..., 0, 0, 0],\n",
            "        [0, 0, 0, ..., 0, 0, 0],\n",
            "        [0, 0, 0, ..., 0, 0, 0]],\n",
            "\n",
            "       [[0, 0, 0, ..., 0, 0, 0],\n",
            "        [0, 0, 0, ..., 0, 0, 0],\n",
            "        [0, 0, 0, ..., 0, 0, 0],\n",
            "        ...,\n",
            "        [0, 0, 0, ..., 0, 0, 0],\n",
            "        [0, 0, 0, ..., 0, 0, 0],\n",
            "        [0, 0, 0, ..., 0, 0, 0]]], dtype=uint8), array([9, 2, 1, ..., 8, 1, 5], dtype=uint8)))\n"
          ]
        }
      ]
    },
    {
      "cell_type": "code",
      "metadata": {
        "colab": {
          "base_uri": "https://localhost:8080/"
        },
        "id": "WTAilxE2SYEx",
        "outputId": "252c2665-60ce-4bac-8486-72005a844c16"
      },
      "source": [
        "len(data)"
      ],
      "execution_count": 13,
      "outputs": [
        {
          "output_type": "execute_result",
          "data": {
            "text/plain": [
              "2"
            ]
          },
          "metadata": {},
          "execution_count": 13
        }
      ]
    },
    {
      "cell_type": "code",
      "metadata": {
        "id": "DC6MRiwwScub"
      },
      "source": [
        "a,b = data"
      ],
      "execution_count": 14,
      "outputs": []
    },
    {
      "cell_type": "code",
      "metadata": {
        "colab": {
          "base_uri": "https://localhost:8080/"
        },
        "id": "4cWfrijaS9Md",
        "outputId": "9af8a437-96e0-42a2-85d7-3df01d249024"
      },
      "source": [
        "len(a), len(b)"
      ],
      "execution_count": 15,
      "outputs": [
        {
          "output_type": "execute_result",
          "data": {
            "text/plain": [
              "(2, 2)"
            ]
          },
          "metadata": {},
          "execution_count": 15
        }
      ]
    },
    {
      "cell_type": "code",
      "metadata": {
        "colab": {
          "base_uri": "https://localhost:8080/"
        },
        "id": "tjlzbEN_S_1u",
        "outputId": "a0083acd-7873-4911-8b9f-c28f3a1a37f3"
      },
      "source": [
        "a[1]"
      ],
      "execution_count": 17,
      "outputs": [
        {
          "output_type": "execute_result",
          "data": {
            "text/plain": [
              "array([9, 0, 0, ..., 3, 0, 5], dtype=uint8)"
            ]
          },
          "metadata": {},
          "execution_count": 17
        }
      ]
    },
    {
      "cell_type": "code",
      "metadata": {
        "colab": {
          "base_uri": "https://localhost:8080/"
        },
        "id": "0T_Kz2q7TBs-",
        "outputId": "e9433909-7562-4e59-e5f9-108779c596f5"
      },
      "source": [
        "b[1]"
      ],
      "execution_count": 18,
      "outputs": [
        {
          "output_type": "execute_result",
          "data": {
            "text/plain": [
              "array([9, 2, 1, ..., 8, 1, 5], dtype=uint8)"
            ]
          },
          "metadata": {},
          "execution_count": 18
        }
      ]
    },
    {
      "cell_type": "code",
      "metadata": {
        "id": "oFDreOuOTGvY"
      },
      "source": [
        "(trainx, trainy),(testx,testy) = data"
      ],
      "execution_count": 19,
      "outputs": []
    },
    {
      "cell_type": "code",
      "metadata": {
        "colab": {
          "base_uri": "https://localhost:8080/"
        },
        "id": "Y4PQHc4DTP8I",
        "outputId": "a62e29b3-8ad2-46b2-9062-264ecf75a803"
      },
      "source": [
        "dir(data)\n",
        "print(len(testy))"
      ],
      "execution_count": 25,
      "outputs": [
        {
          "output_type": "stream",
          "name": "stdout",
          "text": [
            "10000\n"
          ]
        }
      ]
    },
    {
      "cell_type": "code",
      "metadata": {
        "colab": {
          "base_uri": "https://localhost:8080/"
        },
        "id": "xsYfwA39TY6s",
        "outputId": "973e1506-d634-4632-b459-3dd4857f1659"
      },
      "source": [
        "len(trainx)"
      ],
      "execution_count": 26,
      "outputs": [
        {
          "output_type": "execute_result",
          "data": {
            "text/plain": [
              "60000"
            ]
          },
          "metadata": {},
          "execution_count": 26
        }
      ]
    },
    {
      "cell_type": "code",
      "metadata": {
        "colab": {
          "base_uri": "https://localhost:8080/",
          "height": 282
        },
        "id": "W4YXwCOTTqrD",
        "outputId": "a963caf4-7810-48e1-ec83-cb6a124cf475"
      },
      "source": [
        "import matplotlib.pyplot as plt\n",
        "i1 = trainx[59999]\n",
        "plt.figure()\n",
        "plt.imshow(i1)"
      ],
      "execution_count": 31,
      "outputs": [
        {
          "output_type": "execute_result",
          "data": {
            "text/plain": [
              "<matplotlib.image.AxesImage at 0x7fec375dbc50>"
            ]
          },
          "metadata": {},
          "execution_count": 31
        },
        {
          "output_type": "display_data",
          "data": {
            "image/png": "[encoded data removed]",
            "text/plain": [
              "<Figure size 432x288 with 1 Axes>"
            ]
          },
          "metadata": {
            "needs_background": "light"
          }
        }
      ]
    },
    {
      "cell_type": "code",
      "metadata": {
        "id": "TMKKRrCdT9P0"
      },
      "source": [
        "class_names = ['T-shirt/top', 'Trouser', 'Pullover', 'Dress', 'Coat',\n",
        "               'Sandal', 'Shirt', 'Sneaker', 'Bag', 'Ankle boot']\n",
        "# BGR"
      ],
      "execution_count": 32,
      "outputs": []
    },
    {
      "cell_type": "code",
      "metadata": {
        "colab": {
          "base_uri": "https://localhost:8080/",
          "height": 315
        },
        "id": "dFbv1ig4VWfZ",
        "outputId": "28db6aaa-671f-4c8c-d176-b17dcd214a25"
      },
      "source": [
        "x=101\n",
        "i1 = trainx[x]\n",
        "print(class_names[trainy[x]])\n",
        "print(trainx[x].shape)\n",
        "plt.figure()\n",
        "plt.imshow(i1)"
      ],
      "execution_count": 46,
      "outputs": [
        {
          "output_type": "stream",
          "name": "stdout",
          "text": [
            "T-shirt/top\n",
            "(28, 28)\n"
          ]
        },
        {
          "output_type": "execute_result",
          "data": {
            "text/plain": [
              "<matplotlib.image.AxesImage at 0x7fec371a4c50>"
            ]
          },
          "metadata": {},
          "execution_count": 46
        },
        {
          "output_type": "display_data",
          "data": {
            "image/png": "[encoded data removed]",
            "text/plain": [
              "<Figure size 432x288 with 1 Axes>"
            ]
          },
          "metadata": {
            "needs_background": "light"
          }
        }
      ]
    },
    {
      "cell_type": "code",
      "metadata": {
        "colab": {
          "base_uri": "https://localhost:8080/"
        },
        "id": "tb-xOAh0Ve2h",
        "outputId": "408c5d26-57b0-434e-d5bb-ef140ce3492f"
      },
      "source": [
        "trainx[0].shape"
      ],
      "execution_count": 39,
      "outputs": [
        {
          "output_type": "execute_result",
          "data": {
            "text/plain": [
              "(28, 28)"
            ]
          },
          "metadata": {},
          "execution_count": 39
        }
      ]
    },
    {
      "cell_type": "code",
      "metadata": {
        "colab": {
          "base_uri": "https://localhost:8080/"
        },
        "id": "_zyMfJtKWmCL",
        "outputId": "b0151f73-431e-465a-9826-d82e14ac2af3"
      },
      "source": [
        "trainx[101]"
      ],
      "execution_count": 41,
      "outputs": [
        {
          "output_type": "execute_result",
          "data": {
            "text/plain": [
              "array([[  0,   0,   0,   0,   0,   0,   0,   0,   0,   0,   0,   0,   0,\n",
              "          0,   0,   0,   0,   0,   0,   0,   0,   0,   0,   0,   0,   0,\n",
              "          0,   0],\n",
              "       [  0,   0,   0,   0,   0,   0,   0,   0, 160, 138,  52,   0,   0,\n",
              "          0,   0,   0,   0,  14, 116, 166, 179,   6,   0,   0,   0,   0,\n",
              "          0,   0],\n",
              "       [  0,   0,   0,   0,   0,   0,   0,   0, 190, 164, 207, 176, 151,\n",
              "        111,  88, 120, 169, 208, 255, 174, 181,  13,   0,   0,   0,   0,\n",
              "          0,   0],\n",
              "       [  0,   0,   0,   0,   0,   0,   0,   0, 210, 194, 166, 254, 251,\n",
              "         87,   0, 148, 254, 255, 204, 155, 216,   2,   0,   0,   0,   0,\n",
              "          0,   0],\n",
              "       [  0,   0,   0,   0,   0,   0,   0,  33, 218, 235, 153, 135, 243,\n",
              "        208, 173, 252, 255, 198,  85, 225, 218,  14,   0,   0,   0,   0,\n",
              "          0,   0],\n",
              "       [  0,   0,   0,   0,   0,   0,   0,  75, 226, 222, 250, 136,  98,\n",
              "        158, 188, 166, 115,  95, 227, 229, 223,  52,   0,   0,   0,   0,\n",
              "          0,   0],\n",
              "       [  0,   0,   0,   0,   0,   0,   0, 120, 252, 218, 226, 253, 227,\n",
              "        176, 153, 170, 209, 252, 235, 219, 231,  94,   0,   0,   0,   0,\n",
              "          0,   0],\n",
              "       [  0,   0,   0,   0,   0,   0,   0, 158, 243, 219, 223, 219, 223,\n",
              "        230, 231, 230, 226, 219, 220, 218, 228, 134,   0,   0,   0,   0,\n",
              "          0,   0],\n",
              "       [  0,   0,   0,   0,   0,   0,   0, 173, 236, 220, 219, 219, 228,\n",
              "        231, 230, 229, 227, 218, 216, 217, 223, 135,   0,   0,   0,   0,\n",
              "          0,   0],\n",
              "       [  0,   0,   0,   0,   0,   0,   0, 182, 221, 219, 226, 253, 205,\n",
              "        151, 134, 148, 201, 253, 224, 211, 221, 119,   0,   0,   0,   0,\n",
              "          0,   0],\n",
              "       [  0,   0,   0,   0,   0,   0,   0, 182, 221, 225, 234,  74,  11,\n",
              "         10,  11,  10,   8,  41, 216, 220, 219, 126,   0,   0,   0,   0,\n",
              "          0,   0],\n",
              "       [  0,   0,   0,   0,   0,   0,   0, 164, 226, 236,  33,  17,  25,\n",
              "         35,  29,  12,  23,  11,  11, 219, 223, 125,   0,   0,   0,   0,\n",
              "          0,   0],\n",
              "       [  0,   0,   0,   0,   0,   0,   0, 146, 237, 114,  18,  92,  82,\n",
              "         14,  39, 119,  17,  30,  16,  77, 231, 121,   0,   0,   0,   0,\n",
              "          0,   0],\n",
              "       [  0,   0,   0,   0,   0,   0,   0, 155, 220,  40,  18, 218, 181,\n",
              "         10,  95, 238,  19,  19,  34,  14, 247, 151,   0,   0,   0,   0,\n",
              "          0,   0],\n",
              "       [  0,   0,   0,   0,   0,   0,   0, 148, 241,  26,  22, 188, 160,\n",
              "         10,  72, 196,  18,  12,  25,  16, 193, 161,   0,   0,   0,   0,\n",
              "          0,   0],\n",
              "       [  0,   0,   0,   0,   0,   0,   0, 120, 235,  24,  42,  42,  36,\n",
              "         28,  23,  28,  15,  69, 128,  15, 179, 161,   0,   0,   0,   0,\n",
              "          0,   0],\n",
              "       [  0,   0,   0,   0,   0,   0,   0, 107, 205,  25,  50,  42,  37,\n",
              "         41,  39,  32,   9,  79, 255,  13, 175, 165,   0,   0,   0,   0,\n",
              "          0,   0],\n",
              "       [  0,   0,   0,   0,   0,   0,   0,  93, 229,  42,  36,  53,  40,\n",
              "         15,  18,  32, 125, 132, 129,  30, 225, 158,   0,   0,   0,   0,\n",
              "          0,   0],\n",
              "       [  0,   0,   0,   0,   0,   0,   0,  84, 240, 160,  15,  61, 175,\n",
              "        163, 167, 170, 118,  14,  12,  96, 253, 153,   0,   0,   0,   0,\n",
              "          0,   0],\n",
              "       [  0,   0,   0,   0,   0,   0,   0,  94, 227, 227, 121,  13,  16,\n",
              "         25,  25,  11,   9,   9,  81, 252, 216, 179,   0,   0,   0,   0,\n",
              "          0,   0],\n",
              "       [  0,   0,   0,   0,   0,   0,   0,  95, 231, 218, 231, 186,  74,\n",
              "         17,  12,  12,  51, 152, 253, 216, 213, 185,   0,   0,   0,   0,\n",
              "          0,   0],\n",
              "       [  0,   0,   0,   0,   0,   0,   0,  93, 232, 219, 221, 232, 253,\n",
              "        249, 236, 243, 252, 231, 217, 216, 221, 190,   0,   0,   0,   0,\n",
              "          0,   0],\n",
              "       [  0,   0,   0,   0,   0,   0,   0, 103, 253, 222, 223, 221, 221,\n",
              "        225, 227, 225, 220, 219, 218, 217, 219, 196,   0,   0,   0,   0,\n",
              "          0,   0],\n",
              "       [  0,   0,   0,   0,   0,   0,   0, 110, 253, 222, 224, 224, 224,\n",
              "        222, 223, 223, 225, 225, 223, 220, 221, 202,   0,   0,   0,   0,\n",
              "          0,   0],\n",
              "       [  0,   0,   0,   0,   0,   0,   0, 112, 253, 223, 224, 224, 225,\n",
              "        224, 227, 226, 226, 227, 225, 222, 221, 207,   0,   0,   0,   0,\n",
              "          0,   0],\n",
              "       [  0,   0,   0,   0,   0,   0,   0, 109, 233, 222, 225, 222, 223,\n",
              "        222, 225, 224, 223, 221, 219, 216, 216, 203,   0,   0,   0,   0,\n",
              "          0,   0],\n",
              "       [  0,   0,   0,   0,   0,   0,   0, 123, 255, 231, 240, 238, 238,\n",
              "        237, 237, 240, 245, 245, 245, 245, 252, 237,   0,   0,   0,   0,\n",
              "          0,   0],\n",
              "       [  0,   0,   0,   0,   0,   0,   0,   0, 145, 168, 197, 206, 204,\n",
              "        205, 205, 198, 191, 180, 171, 163, 169, 111,   0,   0,   0,   0,\n",
              "          0,   0]], dtype=uint8)"
            ]
          },
          "metadata": {},
          "execution_count": 41
        }
      ]
    },
    {
      "cell_type": "code",
      "metadata": {
        "id": "ZK2eLfMlYXcg"
      },
      "source": [
        "# MinMax->(X-min)/(Max-min)-> (X-0)/(255-0) -> X/255\n",
        "# ALl these values-> will become between 0 to 1\n",
        "# similar scale-> not very large or very small!!"
      ],
      "execution_count": 42,
      "outputs": []
    },
    {
      "cell_type": "code",
      "metadata": {
        "id": "wHsXbKtBZ52D"
      },
      "source": [
        "trainx_norm = trainx/255.0\n",
        "testx_norm = testx/255.0"
      ],
      "execution_count": 43,
      "outputs": []
    },
    {
      "cell_type": "code",
      "metadata": {
        "colab": {
          "base_uri": "https://localhost:8080/",
          "height": 315
        },
        "id": "dhEiCIZ8aG3i",
        "outputId": "994744cf-ffc8-4152-da3c-a305ddbf0b79"
      },
      "source": [
        "x=101\n",
        "i1 = trainx_norm[x]\n",
        "print(class_names[trainy[x]])\n",
        "print(trainx_norm[x].shape)\n",
        "plt.figure()\n",
        "plt.imshow(i1)"
      ],
      "execution_count": 44,
      "outputs": [
        {
          "output_type": "stream",
          "name": "stdout",
          "text": [
            "T-shirt/top\n",
            "(28, 28)\n"
          ]
        },
        {
          "output_type": "execute_result",
          "data": {
            "text/plain": [
              "<matplotlib.image.AxesImage at 0x7fec37580f90>"
            ]
          },
          "metadata": {},
          "execution_count": 44
        },
        {
          "output_type": "display_data",
          "data": {
            "image/png": "[encoded data removed]",
            "text/plain": [
              "<Figure size 432x288 with 1 Axes>"
            ]
          },
          "metadata": {
            "needs_background": "light"
          }
        }
      ]
    },
    {
      "cell_type": "code",
      "metadata": {
        "id": "VPSSdrg4aR6L"
      },
      "source": [
        "layer1 = keras.layers.Flatten(input_shape=(28,28))\n",
        "layer2 = keras.layers.Dense(128)\n",
        "layer3 = keras.layers.Dense(256)\n",
        "layer_final = keras.layers.Dense(10, activation=tf.nn.softmax)"
      ],
      "execution_count": 47,
      "outputs": []
    },
    {
      "cell_type": "code",
      "metadata": {
        "id": "z5fsXDBjbGmy"
      },
      "source": [
        "m1 = keras.Sequential([layer1,layer2,layer3,layer_final])"
      ],
      "execution_count": 48,
      "outputs": []
    },
    {
      "cell_type": "code",
      "metadata": {
        "id": "ThAR9wDlcXtt"
      },
      "source": [
        "m1.compile(loss=tf.losses.sparse_categorical_crossentropy, \n",
        "           optimizer=tf.optimizers.Adam(), \n",
        "           metrics=['accuracy'])\n",
        "\n",
        "\n",
        "# momentum is welcome in networks\n",
        "# vectors-> displacement -> d(displacement)/dt-> velocity\n",
        "# dv/dt -> acceleration-> Ada\n",
        "# da/dt -> jerk-> momentum -> Adam"
      ],
      "execution_count": 49,
      "outputs": []
    },
    {
      "cell_type": "code",
      "metadata": {
        "colab": {
          "base_uri": "https://localhost:8080/"
        },
        "id": "c-UCAFcHd1rB",
        "outputId": "1f14dbd7-dee7-4c89-dba3-8f2acd0c4bee"
      },
      "source": [
        "m1.summary()"
      ],
      "execution_count": 50,
      "outputs": [
        {
          "output_type": "stream",
          "name": "stdout",
          "text": [
            "Model: \"sequential\"\n",
            "_________________________________________________________________\n",
            "Layer (type)                 Output Shape              Param #   \n",
            "=================================================================\n",
            "flatten_1 (Flatten)          (None, 784)               0         \n",
            "_________________________________________________________________\n",
            "dense (Dense)                (None, 128)               100480    \n",
            "_________________________________________________________________\n",
            "dense_1 (Dense)              (None, 256)               33024     \n",
            "_________________________________________________________________\n",
            "dense_2 (Dense)              (None, 10)                2570      \n",
            "=================================================================\n",
            "Total params: 136,074\n",
            "Trainable params: 136,074\n",
            "Non-trainable params: 0\n",
            "_________________________________________________________________\n"
          ]
        }
      ]
    },
    {
      "cell_type": "code",
      "metadata": {
        "id": "aYJQOS4Hd4JQ"
      },
      "source": [
        "# Transfer Learning-> ResNET, VGG, YOLO, AlexNet... "
      ],
      "execution_count": 51,
      "outputs": []
    },
    {
      "cell_type": "code",
      "metadata": {
        "colab": {
          "base_uri": "https://localhost:8080/"
        },
        "id": "g-96YHfXet_c",
        "outputId": "c42e591d-2e31-4077-bfa7-42e6ece39787"
      },
      "source": [
        "history = m1.fit(trainx_norm, trainy, batch_size=32, epochs=50,\n",
        "                 verbose=1)"
      ],
      "execution_count": 52,
      "outputs": [
        {
          "output_type": "stream",
          "name": "stdout",
          "text": [
            "Epoch 1/50\n",
            "1875/1875 [==============================] - 6s 3ms/step - loss: 0.5570 - accuracy: 0.8052\n",
            "Epoch 2/50\n",
            "1875/1875 [==============================] - 6s 3ms/step - loss: 0.4761 - accuracy: 0.8346\n",
            "Epoch 3/50\n",
            "1875/1875 [==============================] - 5s 3ms/step - loss: 0.4559 - accuracy: 0.8405\n",
            "Epoch 4/50\n",
            "1875/1875 [==============================] - 5s 3ms/step - loss: 0.4462 - accuracy: 0.8439\n",
            "Epoch 5/50\n",
            "1875/1875 [==============================] - 6s 3ms/step - loss: 0.4377 - accuracy: 0.8468\n",
            "Epoch 6/50\n",
            "1875/1875 [==============================] - 5s 2ms/step - loss: 0.4311 - accuracy: 0.8485\n",
            "Epoch 7/50\n",
            "1875/1875 [==============================] - 5s 3ms/step - loss: 0.4270 - accuracy: 0.8509\n",
            "Epoch 8/50\n",
            "1875/1875 [==============================] - 5s 2ms/step - loss: 0.4210 - accuracy: 0.8521\n",
            "Epoch 9/50\n",
            "1875/1875 [==============================] - 5s 3ms/step - loss: 0.4188 - accuracy: 0.8543\n",
            "Epoch 10/50\n",
            "1875/1875 [==============================] - 6s 3ms/step - loss: 0.4124 - accuracy: 0.8555\n",
            "Epoch 11/50\n",
            "1875/1875 [==============================] - 5s 3ms/step - loss: 0.4097 - accuracy: 0.8567\n",
            "Epoch 12/50\n",
            "1875/1875 [==============================] - 5s 3ms/step - loss: 0.4091 - accuracy: 0.8562\n",
            "Epoch 13/50\n",
            "1875/1875 [==============================] - 5s 3ms/step - loss: 0.4067 - accuracy: 0.8568\n",
            "Epoch 14/50\n",
            "1875/1875 [==============================] - 6s 3ms/step - loss: 0.4046 - accuracy: 0.8585\n",
            "Epoch 15/50\n",
            "1875/1875 [==============================] - 5s 3ms/step - loss: 0.4027 - accuracy: 0.8577\n",
            "Epoch 16/50\n",
            "1875/1875 [==============================] - 6s 3ms/step - loss: 0.4009 - accuracy: 0.8598\n",
            "Epoch 17/50\n",
            "1875/1875 [==============================] - 5s 3ms/step - loss: 0.3992 - accuracy: 0.8596\n",
            "Epoch 18/50\n",
            "1875/1875 [==============================] - 5s 3ms/step - loss: 0.3985 - accuracy: 0.8582\n",
            "Epoch 19/50\n",
            "1875/1875 [==============================] - 6s 3ms/step - loss: 0.3955 - accuracy: 0.8597\n",
            "Epoch 20/50\n",
            "1875/1875 [==============================] - 5s 3ms/step - loss: 0.3947 - accuracy: 0.8614\n",
            "Epoch 21/50\n",
            "1875/1875 [==============================] - 5s 3ms/step - loss: 0.3939 - accuracy: 0.8616\n",
            "Epoch 22/50\n",
            "1875/1875 [==============================] - 5s 3ms/step - loss: 0.3913 - accuracy: 0.8619\n",
            "Epoch 23/50\n",
            "1875/1875 [==============================] - 5s 3ms/step - loss: 0.3930 - accuracy: 0.8602\n",
            "Epoch 24/50\n",
            "1875/1875 [==============================] - 5s 3ms/step - loss: 0.3895 - accuracy: 0.8628\n",
            "Epoch 25/50\n",
            "1875/1875 [==============================] - 5s 3ms/step - loss: 0.3911 - accuracy: 0.8614\n",
            "Epoch 26/50\n",
            "1875/1875 [==============================] - 5s 3ms/step - loss: 0.3871 - accuracy: 0.8621\n",
            "Epoch 27/50\n",
            "1875/1875 [==============================] - 5s 3ms/step - loss: 0.3863 - accuracy: 0.8644\n",
            "Epoch 28/50\n",
            "1875/1875 [==============================] - 4s 2ms/step - loss: 0.3868 - accuracy: 0.8638\n",
            "Epoch 29/50\n",
            "1875/1875 [==============================] - 5s 3ms/step - loss: 0.3881 - accuracy: 0.8626\n",
            "Epoch 30/50\n",
            "1875/1875 [==============================] - 4s 2ms/step - loss: 0.3854 - accuracy: 0.8640\n",
            "Epoch 31/50\n",
            "1875/1875 [==============================] - 5s 3ms/step - loss: 0.3872 - accuracy: 0.8643\n",
            "Epoch 32/50\n",
            "1875/1875 [==============================] - 5s 3ms/step - loss: 0.3826 - accuracy: 0.8633\n",
            "Epoch 33/50\n",
            "1875/1875 [==============================] - 5s 3ms/step - loss: 0.3833 - accuracy: 0.8639\n",
            "Epoch 34/50\n",
            "1875/1875 [==============================] - 5s 3ms/step - loss: 0.3816 - accuracy: 0.8654\n",
            "Epoch 35/50\n",
            "1875/1875 [==============================] - 5s 3ms/step - loss: 0.3828 - accuracy: 0.8646\n",
            "Epoch 36/50\n",
            "1875/1875 [==============================] - 5s 3ms/step - loss: 0.3811 - accuracy: 0.8636\n",
            "Epoch 37/50\n",
            "1875/1875 [==============================] - 5s 3ms/step - loss: 0.3811 - accuracy: 0.8639\n",
            "Epoch 38/50\n",
            "1875/1875 [==============================] - 5s 3ms/step - loss: 0.3808 - accuracy: 0.8654\n",
            "Epoch 39/50\n",
            "1875/1875 [==============================] - 4s 2ms/step - loss: 0.3800 - accuracy: 0.8663\n",
            "Epoch 40/50\n",
            "1875/1875 [==============================] - 5s 3ms/step - loss: 0.3793 - accuracy: 0.8662\n",
            "Epoch 41/50\n",
            "1875/1875 [==============================] - 5s 2ms/step - loss: 0.3776 - accuracy: 0.8665\n",
            "Epoch 42/50\n",
            "1875/1875 [==============================] - 5s 3ms/step - loss: 0.3792 - accuracy: 0.8663\n",
            "Epoch 43/50\n",
            "1875/1875 [==============================] - 5s 3ms/step - loss: 0.3780 - accuracy: 0.8662\n",
            "Epoch 44/50\n",
            "1875/1875 [==============================] - 5s 3ms/step - loss: 0.3772 - accuracy: 0.8667\n",
            "Epoch 45/50\n",
            "1875/1875 [==============================] - 5s 3ms/step - loss: 0.3799 - accuracy: 0.8653\n",
            "Epoch 46/50\n",
            "1875/1875 [==============================] - 5s 3ms/step - loss: 0.3759 - accuracy: 0.8676\n",
            "Epoch 47/50\n",
            "1875/1875 [==============================] - 4s 2ms/step - loss: 0.3764 - accuracy: 0.8660\n",
            "Epoch 48/50\n",
            "1875/1875 [==============================] - 6s 3ms/step - loss: 0.3753 - accuracy: 0.8662\n",
            "Epoch 49/50\n",
            "1875/1875 [==============================] - 5s 3ms/step - loss: 0.3763 - accuracy: 0.8665\n",
            "Epoch 50/50\n",
            "1875/1875 [==============================] - 5s 3ms/step - loss: 0.3757 - accuracy: 0.8674\n"
          ]
        }
      ]
    },
    {
      "cell_type": "code",
      "metadata": {
        "id": "xBmt35CSfQyW"
      },
      "source": [
        "l1 = keras.layers.Flatten(input_shape=(28,28))\n",
        "l2 = keras.layers.Dense(128, activation=tf.nn.relu)\n",
        "l3 = keras.layers.Dense(256, activation = tf.nn.relu)\n",
        "l4 = keras.layers.Dropout(0.1)\n",
        "l_final = keras.layers.Dense(10, activation=tf.nn.softmax)\n",
        "m2 = keras.Sequential([l1,l2,l3,l4,l_final])\n",
        "m2.compile(loss=tf.losses.sparse_categorical_crossentropy, \n",
        "           optimizer=tf.optimizers.Adam(), \n",
        "           metrics=['accuracy'])"
      ],
      "execution_count": 94,
      "outputs": []
    },
    {
      "cell_type": "code",
      "metadata": {
        "colab": {
          "base_uri": "https://localhost:8080/"
        },
        "id": "D8XkUwNyf4n1",
        "outputId": "b0b2febc-7be4-4eac-ed81-ec44827975d1"
      },
      "source": [
        "althistory = m2.fit(trainx_norm, trainy, batch_size=32, epochs=50,\n",
        "                 verbose=1)"
      ],
      "execution_count": 95,
      "outputs": [
        {
          "output_type": "stream",
          "name": "stdout",
          "text": [
            "Epoch 1/50\n",
            "1875/1875 [==============================] - 5s 3ms/step - loss: 0.4889 - accuracy: 0.8242\n",
            "Epoch 2/50\n",
            "1875/1875 [==============================] - 6s 3ms/step - loss: 0.3647 - accuracy: 0.8653\n",
            "Epoch 3/50\n",
            "1875/1875 [==============================] - 6s 3ms/step - loss: 0.3321 - accuracy: 0.8788\n",
            "Epoch 4/50\n",
            "1875/1875 [==============================] - 5s 3ms/step - loss: 0.3082 - accuracy: 0.8876\n",
            "Epoch 5/50\n",
            "1875/1875 [==============================] - 6s 3ms/step - loss: 0.2915 - accuracy: 0.8914\n",
            "Epoch 6/50\n",
            "1875/1875 [==============================] - 6s 3ms/step - loss: 0.2744 - accuracy: 0.8968\n",
            "Epoch 7/50\n",
            "1875/1875 [==============================] - 5s 3ms/step - loss: 0.2622 - accuracy: 0.9021\n",
            "Epoch 8/50\n",
            "1875/1875 [==============================] - 6s 3ms/step - loss: 0.2513 - accuracy: 0.9055\n",
            "Epoch 9/50\n",
            "1875/1875 [==============================] - 5s 3ms/step - loss: 0.2395 - accuracy: 0.9090\n",
            "Epoch 10/50\n",
            "1875/1875 [==============================] - 5s 3ms/step - loss: 0.2328 - accuracy: 0.9111\n",
            "Epoch 11/50\n",
            "1875/1875 [==============================] - 5s 3ms/step - loss: 0.2249 - accuracy: 0.9139\n",
            "Epoch 12/50\n",
            "1875/1875 [==============================] - 6s 3ms/step - loss: 0.2195 - accuracy: 0.9162\n",
            "Epoch 13/50\n",
            "1875/1875 [==============================] - 5s 3ms/step - loss: 0.2103 - accuracy: 0.9191\n",
            "Epoch 14/50\n",
            "1875/1875 [==============================] - 6s 3ms/step - loss: 0.2054 - accuracy: 0.9209\n",
            "Epoch 15/50\n",
            "1875/1875 [==============================] - 5s 3ms/step - loss: 0.1973 - accuracy: 0.9242\n",
            "Epoch 16/50\n",
            "1875/1875 [==============================] - 6s 3ms/step - loss: 0.1902 - accuracy: 0.9272\n",
            "Epoch 17/50\n",
            "1875/1875 [==============================] - 6s 3ms/step - loss: 0.1880 - accuracy: 0.9281\n",
            "Epoch 18/50\n",
            "1875/1875 [==============================] - 5s 3ms/step - loss: 0.1817 - accuracy: 0.9307\n",
            "Epoch 19/50\n",
            "1875/1875 [==============================] - 6s 3ms/step - loss: 0.1794 - accuracy: 0.9317\n",
            "Epoch 20/50\n",
            "1875/1875 [==============================] - 6s 3ms/step - loss: 0.1743 - accuracy: 0.9329\n",
            "Epoch 21/50\n",
            "1875/1875 [==============================] - 6s 3ms/step - loss: 0.1688 - accuracy: 0.9342\n",
            "Epoch 22/50\n",
            "1875/1875 [==============================] - 6s 3ms/step - loss: 0.1630 - accuracy: 0.9374\n",
            "Epoch 23/50\n",
            "1875/1875 [==============================] - 6s 3ms/step - loss: 0.1604 - accuracy: 0.9384\n",
            "Epoch 24/50\n",
            "1875/1875 [==============================] - 5s 3ms/step - loss: 0.1565 - accuracy: 0.9387\n",
            "Epoch 25/50\n",
            "1875/1875 [==============================] - 6s 3ms/step - loss: 0.1562 - accuracy: 0.9389\n",
            "Epoch 26/50\n",
            "1875/1875 [==============================] - 5s 3ms/step - loss: 0.1516 - accuracy: 0.9413\n",
            "Epoch 27/50\n",
            "1875/1875 [==============================] - 5s 3ms/step - loss: 0.1477 - accuracy: 0.9437\n",
            "Epoch 28/50\n",
            "1875/1875 [==============================] - 5s 3ms/step - loss: 0.1463 - accuracy: 0.9437\n",
            "Epoch 29/50\n",
            "1875/1875 [==============================] - 6s 3ms/step - loss: 0.1408 - accuracy: 0.9455\n",
            "Epoch 30/50\n",
            "1875/1875 [==============================] - 5s 3ms/step - loss: 0.1415 - accuracy: 0.9457\n",
            "Epoch 31/50\n",
            "1875/1875 [==============================] - 6s 3ms/step - loss: 0.1362 - accuracy: 0.9473\n",
            "Epoch 32/50\n",
            "1875/1875 [==============================] - 5s 3ms/step - loss: 0.1329 - accuracy: 0.9482\n",
            "Epoch 33/50\n",
            "1875/1875 [==============================] - 5s 3ms/step - loss: 0.1322 - accuracy: 0.9491\n",
            "Epoch 34/50\n",
            "1875/1875 [==============================] - 5s 3ms/step - loss: 0.1316 - accuracy: 0.9495\n",
            "Epoch 35/50\n",
            "1875/1875 [==============================] - 5s 3ms/step - loss: 0.1231 - accuracy: 0.9517\n",
            "Epoch 36/50\n",
            "1875/1875 [==============================] - 6s 3ms/step - loss: 0.1296 - accuracy: 0.9501\n",
            "Epoch 37/50\n",
            "1875/1875 [==============================] - 5s 3ms/step - loss: 0.1245 - accuracy: 0.9514\n",
            "Epoch 38/50\n",
            "1875/1875 [==============================] - 5s 3ms/step - loss: 0.1224 - accuracy: 0.9526\n",
            "Epoch 39/50\n",
            "1875/1875 [==============================] - 6s 3ms/step - loss: 0.1197 - accuracy: 0.9541\n",
            "Epoch 40/50\n",
            "1875/1875 [==============================] - 6s 3ms/step - loss: 0.1178 - accuracy: 0.9546\n",
            "Epoch 41/50\n",
            "1875/1875 [==============================] - 6s 3ms/step - loss: 0.1158 - accuracy: 0.9550\n",
            "Epoch 42/50\n",
            "1875/1875 [==============================] - 6s 3ms/step - loss: 0.1139 - accuracy: 0.9563\n",
            "Epoch 43/50\n",
            "1875/1875 [==============================] - 6s 3ms/step - loss: 0.1151 - accuracy: 0.9553\n",
            "Epoch 44/50\n",
            "1875/1875 [==============================] - 5s 3ms/step - loss: 0.1124 - accuracy: 0.9567\n",
            "Epoch 45/50\n",
            "1875/1875 [==============================] - 5s 3ms/step - loss: 0.1088 - accuracy: 0.9578\n",
            "Epoch 46/50\n",
            "1875/1875 [==============================] - 6s 3ms/step - loss: 0.1079 - accuracy: 0.9585\n",
            "Epoch 47/50\n",
            "1875/1875 [==============================] - 6s 3ms/step - loss: 0.1048 - accuracy: 0.9592\n",
            "Epoch 48/50\n",
            "1875/1875 [==============================] - 5s 3ms/step - loss: 0.1025 - accuracy: 0.9605\n",
            "Epoch 49/50\n",
            "1875/1875 [==============================] - 5s 3ms/step - loss: 0.1029 - accuracy: 0.9608\n",
            "Epoch 50/50\n",
            "1875/1875 [==============================] - 6s 3ms/step - loss: 0.1044 - accuracy: 0.9608\n"
          ]
        }
      ]
    },
    {
      "cell_type": "code",
      "metadata": {
        "id": "Rgulu1ujgAED"
      },
      "source": [
        "predictions1 = m1.predict(testx_norm)"
      ],
      "execution_count": 55,
      "outputs": []
    },
    {
      "cell_type": "code",
      "metadata": {
        "id": "MUevwT4mleDG"
      },
      "source": [
        "predictions2 = m2.predict(testx_norm)"
      ],
      "execution_count": 96,
      "outputs": []
    },
    {
      "cell_type": "code",
      "metadata": {
        "colab": {
          "base_uri": "https://localhost:8080/"
        },
        "id": "CWYswISSli01",
        "outputId": "6bad5bc9-2f17-4193-eb77-244a5cfb347d"
      },
      "source": [
        "e1 = m1.evaluate(trainx_norm, trainy)\n",
        "e2 = m2.evaluate(trainx_norm, trainy)"
      ],
      "execution_count": 97,
      "outputs": [
        {
          "output_type": "stream",
          "name": "stdout",
          "text": [
            "1875/1875 [==============================] - 3s 1ms/step - loss: 0.3762 - accuracy: 0.8630\n",
            "1875/1875 [==============================] - 3s 1ms/step - loss: 0.0849 - accuracy: 0.9666\n"
          ]
        }
      ]
    },
    {
      "cell_type": "code",
      "metadata": {
        "colab": {
          "base_uri": "https://localhost:8080/"
        },
        "id": "MzOWCueCltW3",
        "outputId": "ec01f6c1-6cc5-4150-f933-d6d76b1457e8"
      },
      "source": [
        "e1 = m1.evaluate(testx_norm, testy)\n",
        "e2 = m2.evaluate(testx_norm, testy)"
      ],
      "execution_count": 98,
      "outputs": [
        {
          "output_type": "stream",
          "name": "stdout",
          "text": [
            "313/313 [==============================] - 1s 2ms/step - loss: 0.4751 - accuracy: 0.8342\n",
            "313/313 [==============================] - 1s 2ms/step - loss: 0.6286 - accuracy: 0.8873\n"
          ]
        }
      ]
    },
    {
      "cell_type": "code",
      "metadata": {
        "colab": {
          "base_uri": "https://localhost:8080/"
        },
        "id": "o-loQWALl7zw",
        "outputId": "de809d38-2142-477c-d211-602cd9e38fe1"
      },
      "source": [
        "e1"
      ],
      "execution_count": 60,
      "outputs": [
        {
          "output_type": "execute_result",
          "data": {
            "text/plain": [
              "[0.47514858841896057, 0.8342000246047974]"
            ]
          },
          "metadata": {},
          "execution_count": 60
        }
      ]
    },
    {
      "cell_type": "code",
      "metadata": {
        "colab": {
          "base_uri": "https://localhost:8080/"
        },
        "id": "U6hlei5hl8wx",
        "outputId": "6952dcec-ae93-45c0-c419-2929366684a3"
      },
      "source": [
        "e2"
      ],
      "execution_count": 61,
      "outputs": [
        {
          "output_type": "execute_result",
          "data": {
            "text/plain": [
              "[0.7189953923225403, 0.8906999826431274]"
            ]
          },
          "metadata": {},
          "execution_count": 61
        }
      ]
    },
    {
      "cell_type": "code",
      "metadata": {
        "id": "dUeO6rkgl9OJ"
      },
      "source": [
        "from sklearn.model_selection import cross_val_score\n",
        "d1 = testx_norm[0:2000]\n",
        "d2 = testx_norm[2000:4000]\n",
        "d3 = testx_norm[4000:6000]\n",
        "d4 = testx_norm[6000:8000]\n",
        "d5 = testx_norm[8000:10000]"
      ],
      "execution_count": 99,
      "outputs": []
    },
    {
      "cell_type": "code",
      "metadata": {
        "id": "ianMLYMMmwHH"
      },
      "source": [
        "y1 = testy[0:2000]\n",
        "y2 = testy[2000:4000]\n",
        "y3 = testy[4000:6000]\n",
        "y4 = testy[6000:8000]\n",
        "y5 = testy[8000:10000]"
      ],
      "execution_count": 100,
      "outputs": []
    },
    {
      "cell_type": "code",
      "metadata": {
        "id": "xAtEGE4vnRSb"
      },
      "source": [
        "o1 = m1.predict(d1)\n",
        "o2 = m1.predict(d2)\n",
        "o3 = m1.predict(d3)\n",
        "o4 = m1.predict(d4)\n",
        "o5 = m1.predict(d5)"
      ],
      "execution_count": 101,
      "outputs": []
    },
    {
      "cell_type": "code",
      "metadata": {
        "id": "GMWJUvr_ny9e"
      },
      "source": [
        "import numpy as np"
      ],
      "execution_count": 102,
      "outputs": []
    },
    {
      "cell_type": "code",
      "metadata": {
        "colab": {
          "base_uri": "https://localhost:8080/"
        },
        "id": "ZgCtD2ugnhP1",
        "outputId": "8fb5e27e-e8ba-4179-897a-1715fdd5df31"
      },
      "source": [
        "print(np.argmax(o1[0]))\n",
        "np.argmax(o1[0])"
      ],
      "execution_count": 103,
      "outputs": [
        {
          "output_type": "stream",
          "name": "stdout",
          "text": [
            "9\n"
          ]
        },
        {
          "output_type": "execute_result",
          "data": {
            "text/plain": [
              "9"
            ]
          },
          "metadata": {},
          "execution_count": 103
        }
      ]
    },
    {
      "cell_type": "code",
      "metadata": {
        "colab": {
          "base_uri": "https://localhost:8080/"
        },
        "id": "81MdDGb8njym",
        "outputId": "28a584b6-72a7-4ef8-8296-f79706fd6f73"
      },
      "source": [
        "y1[0]"
      ],
      "execution_count": 68,
      "outputs": [
        {
          "output_type": "execute_result",
          "data": {
            "text/plain": [
              "9"
            ]
          },
          "metadata": {},
          "execution_count": 68
        }
      ]
    },
    {
      "cell_type": "code",
      "metadata": {
        "colab": {
          "base_uri": "https://localhost:8080/"
        },
        "id": "rGK95V3JnnWO",
        "outputId": "bd5c2e7e-1e08-4079-ca14-18101df0373a"
      },
      "source": [
        "i = [d1 , d2, d3,d4,d5]\n",
        "ys = [y1,y2,y3,y4,y5]\n",
        "for indx,j in enumerate(i):\n",
        "  # j is representing dataset\n",
        "  predictions = m1.evaluate(j,ys[indx])\n",
        "  print(predictions)"
      ],
      "execution_count": 104,
      "outputs": [
        {
          "output_type": "stream",
          "name": "stdout",
          "text": [
            "63/63 [==============================] - 0s 2ms/step - loss: 0.4384 - accuracy: 0.8435\n",
            "[0.438419371843338, 0.843500018119812]\n",
            "63/63 [==============================] - 0s 2ms/step - loss: 0.5060 - accuracy: 0.8225\n",
            "[0.506036639213562, 0.8224999904632568]\n",
            "63/63 [==============================] - 0s 2ms/step - loss: 0.5156 - accuracy: 0.8250\n",
            "[0.5156300663948059, 0.824999988079071]\n",
            "63/63 [==============================] - 0s 2ms/step - loss: 0.4557 - accuracy: 0.8405\n",
            "[0.45573005080223083, 0.840499997138977]\n",
            "63/63 [==============================] - 0s 2ms/step - loss: 0.4599 - accuracy: 0.8395\n",
            "[0.45992666482925415, 0.8395000100135803]\n"
          ]
        }
      ]
    },
    {
      "cell_type": "code",
      "metadata": {
        "colab": {
          "base_uri": "https://localhost:8080/"
        },
        "id": "-u65Av0Zp29e",
        "outputId": "8b935ee2-7313-4f35-a53a-46ebd3243c01"
      },
      "source": [
        "\n",
        "for indx,j in enumerate(i):\n",
        "  # j is representing dataset\n",
        "  predictions = m2.evaluate(j,ys[indx])\n",
        "  print(predictions)"
      ],
      "execution_count": 105,
      "outputs": [
        {
          "output_type": "stream",
          "name": "stdout",
          "text": [
            "63/63 [==============================] - 0s 2ms/step - loss: 0.5332 - accuracy: 0.8925\n",
            "[0.5331732630729675, 0.8924999833106995]\n",
            "63/63 [==============================] - 0s 2ms/step - loss: 0.7292 - accuracy: 0.8805\n",
            "[0.7292160391807556, 0.8805000185966492]\n",
            "63/63 [==============================] - 0s 2ms/step - loss: 0.7268 - accuracy: 0.8715\n",
            "[0.7268208265304565, 0.8715000152587891]\n",
            "63/63 [==============================] - 0s 2ms/step - loss: 0.5708 - accuracy: 0.8920\n",
            "[0.5707588791847229, 0.8920000195503235]\n",
            "63/63 [==============================] - 0s 2ms/step - loss: 0.5832 - accuracy: 0.9000\n",
            "[0.5831519961357117, 0.8999999761581421]\n"
          ]
        }
      ]
    },
    {
      "cell_type": "code",
      "metadata": {
        "id": "Q5_8ddn4qMNo"
      },
      "source": [
        "# Regularization-> LR-> 0, loss->0\n",
        "# L1/L2"
      ],
      "execution_count": null,
      "outputs": []
    }
  ]
}